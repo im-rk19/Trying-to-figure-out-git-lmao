{
  "nbformat": 4,
  "nbformat_minor": 0,
  "metadata": {
    "colab": {
      "name": "backtesting.ipynb",
      "provenance": [],
      "collapsed_sections": [],
      "authorship_tag": "ABX9TyPPWdBMRDE2GXCipr3ebkgf",
      "include_colab_link": true
    },
    "kernelspec": {
      "name": "python3",
      "display_name": "Python 3"
    }
  },
  "cells": [
    {
      "cell_type": "markdown",
      "metadata": {
        "id": "view-in-github",
        "colab_type": "text"
      },
      "source": [
        "<a href=\"https://colab.research.google.com/github/im-rk19/Trying-to-figure-out-git-lmao/blob/master/backtesting.ipynb\" target=\"_parent\"><img src=\"https://colab.research.google.com/assets/colab-badge.svg\" alt=\"Open In Colab\"/></a>"
      ]
    },
    {
      "cell_type": "code",
      "metadata": {
        "id": "YUzyfPFs3yyJ",
        "colab_type": "code",
        "colab": {}
      },
      "source": [
        "from pandas_datareader import data\n",
        "import pandas as pd\n",
        "import numpy as np"
      ],
      "execution_count": 0,
      "outputs": []
    },
    {
      "cell_type": "code",
      "metadata": {
        "id": "bnbs37qj35SJ",
        "colab_type": "code",
        "colab": {}
      },
      "source": [
        "def read_data(stock_list,days):\n",
        "  df = pd.DataFrame()\n",
        "  for ticker in stock_list:\n",
        "    df[ticker] = data.DataReader(ticker,'yahoo',start='1/1/2016')['Adj Close']\n",
        "\n",
        "  return df.head(days)"
      ],
      "execution_count": 0,
      "outputs": []
    },
    {
      "cell_type": "code",
      "metadata": {
        "id": "3itfKQ9g4ceF",
        "colab_type": "code",
        "colab": {}
      },
      "source": [
        "def RSI(price_data):\n",
        "  delta = price_data.diff()\n",
        "  up, down = delta.copy(), delta.copy()\n",
        "  up[up<0] = 0\n",
        "  down[down>0] = 0\n",
        "\n",
        "  roll_up = up.mean()\n",
        "  roll_down = down.abs().mean()\n",
        "\n",
        "  RS = roll_up/roll_down\n",
        "  RSI = (100.0 - (100.0/(1.0 + RS)))[0]\n",
        "\n",
        "  if(RSI> 70): \n",
        "    return 1 #over bought\n",
        "  elif(RSI>=30 and RSI <=70):\n",
        "    return 0\n",
        "  else:\n",
        "    return -1 "
      ],
      "execution_count": 0,
      "outputs": []
    },
    {
      "cell_type": "code",
      "metadata": {
        "id": "xdGpSomo4eex",
        "colab_type": "code",
        "colab": {}
      },
      "source": [
        "portfolio = 500\n",
        "days = 750\n",
        "stock_list = ['DABUR.NS']\n",
        "prices = read_data(stock_list,days)\n",
        "\n",
        "nav = pd.DataFrame(index = prices.tail(days-14).index)\n",
        "nav = nav.assign(leftover = np.zeros(days-14), stock = np.zeros(days-14))\n",
        "\n",
        "nav.iloc[0,0] = portfolio"
      ],
      "execution_count": 0,
      "outputs": []
    },
    {
      "cell_type": "code",
      "metadata": {
        "id": "1ZNgAsuc5LOK",
        "colab_type": "code",
        "colab": {}
      },
      "source": [
        "signal = 0\n",
        "prev_signal = 0\n",
        "for index, row in nav.iloc[1:].iterrows():\n",
        "  signal = np.sign(signal + RSI(prices.loc[:index].tail(14)))\n",
        "  leftover = nav.loc[:index].tail(2).head(1).iloc[0,0]\n",
        "\n",
        "  if(signal == -1):\n",
        "    nav.loc[index,'leftover'] = leftover\n",
        "    nav.loc[index,'stock'] = 0\n",
        "    continue\n",
        "  \n",
        "  if(prev_signal == 0 and signal == 1):\n",
        "    #BUY\n",
        "    nav.loc[index,'leftover'] = leftover - prices.loc[index][0]\n",
        "    nav.loc[index,'stock'] = prices.loc[index][0]\n",
        "\n",
        "  if(prev_signal == 1 and signal ==1):\n",
        "    #HOLD\n",
        "    nav.loc[index,'leftover'] = leftover \n",
        "    nav.loc[index,'stock'] = prices.loc[index][0]\n",
        "  \n",
        "  if(prev_signal == 1 and signal ==0):\n",
        "    #SELL\n",
        "    nav.loc[index,'leftover'] = leftover + prices.loc[index][0]\n",
        "    nav.loc[index,'stock'] = 0\n",
        "\n",
        "  if(prev_signal == 0 and signal ==0):\n",
        "    #WAIT\n",
        "    nav.loc[index,'leftover'] = leftover \n",
        "    nav.loc[index,'stock'] = 0\n",
        "  \n",
        "  prev_signal = signal\n",
        "    "
      ],
      "execution_count": 0,
      "outputs": []
    },
    {
      "cell_type": "code",
      "metadata": {
        "id": "UL6FtjkB79wI",
        "colab_type": "code",
        "colab": {
          "base_uri": "https://localhost:8080/",
          "height": 431
        },
        "outputId": "75b1759a-ba76-4bb7-b454-02e79570aed4"
      },
      "source": [
        "nav.head(150)"
      ],
      "execution_count": 53,
      "outputs": [
        {
          "output_type": "execute_result",
          "data": {
            "text/html": [
              "<div>\n",
              "<style scoped>\n",
              "    .dataframe tbody tr th:only-of-type {\n",
              "        vertical-align: middle;\n",
              "    }\n",
              "\n",
              "    .dataframe tbody tr th {\n",
              "        vertical-align: top;\n",
              "    }\n",
              "\n",
              "    .dataframe thead th {\n",
              "        text-align: right;\n",
              "    }\n",
              "</style>\n",
              "<table border=\"1\" class=\"dataframe\">\n",
              "  <thead>\n",
              "    <tr style=\"text-align: right;\">\n",
              "      <th></th>\n",
              "      <th>leftover</th>\n",
              "      <th>stock</th>\n",
              "    </tr>\n",
              "    <tr>\n",
              "      <th>Date</th>\n",
              "      <th></th>\n",
              "      <th></th>\n",
              "    </tr>\n",
              "  </thead>\n",
              "  <tbody>\n",
              "    <tr>\n",
              "      <th>2016-01-21</th>\n",
              "      <td>500.000000</td>\n",
              "      <td>0.0</td>\n",
              "    </tr>\n",
              "    <tr>\n",
              "      <th>2016-01-22</th>\n",
              "      <td>500.000000</td>\n",
              "      <td>0.0</td>\n",
              "    </tr>\n",
              "    <tr>\n",
              "      <th>2016-01-25</th>\n",
              "      <td>500.000000</td>\n",
              "      <td>0.0</td>\n",
              "    </tr>\n",
              "    <tr>\n",
              "      <th>2016-01-27</th>\n",
              "      <td>500.000000</td>\n",
              "      <td>0.0</td>\n",
              "    </tr>\n",
              "    <tr>\n",
              "      <th>2016-01-28</th>\n",
              "      <td>500.000000</td>\n",
              "      <td>0.0</td>\n",
              "    </tr>\n",
              "    <tr>\n",
              "      <th>...</th>\n",
              "      <td>...</td>\n",
              "      <td>...</td>\n",
              "    </tr>\n",
              "    <tr>\n",
              "      <th>2016-08-24</th>\n",
              "      <td>452.758698</td>\n",
              "      <td>0.0</td>\n",
              "    </tr>\n",
              "    <tr>\n",
              "      <th>2016-08-25</th>\n",
              "      <td>452.758698</td>\n",
              "      <td>0.0</td>\n",
              "    </tr>\n",
              "    <tr>\n",
              "      <th>2016-08-26</th>\n",
              "      <td>452.758698</td>\n",
              "      <td>0.0</td>\n",
              "    </tr>\n",
              "    <tr>\n",
              "      <th>2016-08-29</th>\n",
              "      <td>452.758698</td>\n",
              "      <td>0.0</td>\n",
              "    </tr>\n",
              "    <tr>\n",
              "      <th>2016-08-30</th>\n",
              "      <td>452.758698</td>\n",
              "      <td>0.0</td>\n",
              "    </tr>\n",
              "  </tbody>\n",
              "</table>\n",
              "<p>150 rows × 2 columns</p>\n",
              "</div>"
            ],
            "text/plain": [
              "              leftover  stock\n",
              "Date                         \n",
              "2016-01-21  500.000000    0.0\n",
              "2016-01-22  500.000000    0.0\n",
              "2016-01-25  500.000000    0.0\n",
              "2016-01-27  500.000000    0.0\n",
              "2016-01-28  500.000000    0.0\n",
              "...                ...    ...\n",
              "2016-08-24  452.758698    0.0\n",
              "2016-08-25  452.758698    0.0\n",
              "2016-08-26  452.758698    0.0\n",
              "2016-08-29  452.758698    0.0\n",
              "2016-08-30  452.758698    0.0\n",
              "\n",
              "[150 rows x 2 columns]"
            ]
          },
          "metadata": {
            "tags": []
          },
          "execution_count": 53
        }
      ]
    },
    {
      "cell_type": "code",
      "metadata": {
        "id": "inH51oet_5Jx",
        "colab_type": "code",
        "colab": {
          "base_uri": "https://localhost:8080/",
          "height": 294
        },
        "outputId": "5e0e33eb-5799-4829-dcb1-b26f7a6056ee"
      },
      "source": [
        "nav.sum(axis=1).plot()"
      ],
      "execution_count": 58,
      "outputs": [
        {
          "output_type": "execute_result",
          "data": {
            "text/plain": [
              "<matplotlib.axes._subplots.AxesSubplot at 0x7f9262f3c2b0>"
            ]
          },
          "metadata": {
            "tags": []
          },
          "execution_count": 58
        },
        {
          "output_type": "display_data",
          "data": {
            "image/png": "[encoded data removed]",
            "text/plain": [
              "<Figure size 432x288 with 1 Axes>"
            ]
          },
          "metadata": {
            "tags": [],
            "needs_background": "light"
          }
        }
      ]
    },
    {
      "cell_type": "code",
      "metadata": {
        "id": "4Bc2lkELBaJJ",
        "colab_type": "code",
        "colab": {
          "base_uri": "https://localhost:8080/",
          "height": 431
        },
        "outputId": "09343c23-f426-4ce2-e624-23075e04bc06"
      },
      "source": [
        "prices"
      ],
      "execution_count": 52,
      "outputs": [
        {
          "output_type": "execute_result",
          "data": {
            "text/html": [
              "<div>\n",
              "<style scoped>\n",
              "    .dataframe tbody tr th:only-of-type {\n",
              "        vertical-align: middle;\n",
              "    }\n",
              "\n",
              "    .dataframe tbody tr th {\n",
              "        vertical-align: top;\n",
              "    }\n",
              "\n",
              "    .dataframe thead th {\n",
              "        text-align: right;\n",
              "    }\n",
              "</style>\n",
              "<table border=\"1\" class=\"dataframe\">\n",
              "  <thead>\n",
              "    <tr style=\"text-align: right;\">\n",
              "      <th></th>\n",
              "      <th>DABUR.NS</th>\n",
              "    </tr>\n",
              "    <tr>\n",
              "      <th>Date</th>\n",
              "      <th></th>\n",
              "    </tr>\n",
              "  </thead>\n",
              "  <tbody>\n",
              "    <tr>\n",
              "      <th>2016-01-01</th>\n",
              "      <td>261.841431</td>\n",
              "    </tr>\n",
              "    <tr>\n",
              "      <th>2016-01-04</th>\n",
              "      <td>262.315125</td>\n",
              "    </tr>\n",
              "    <tr>\n",
              "      <th>2016-01-05</th>\n",
              "      <td>261.415131</td>\n",
              "    </tr>\n",
              "    <tr>\n",
              "      <th>2016-01-06</th>\n",
              "      <td>261.367828</td>\n",
              "    </tr>\n",
              "    <tr>\n",
              "      <th>2016-01-07</th>\n",
              "      <td>253.599701</td>\n",
              "    </tr>\n",
              "    <tr>\n",
              "      <th>...</th>\n",
              "      <td>...</td>\n",
              "    </tr>\n",
              "    <tr>\n",
              "      <th>2019-01-08</th>\n",
              "      <td>412.301300</td>\n",
              "    </tr>\n",
              "    <tr>\n",
              "      <th>2019-01-09</th>\n",
              "      <td>417.351074</td>\n",
              "    </tr>\n",
              "    <tr>\n",
              "      <th>2019-01-10</th>\n",
              "      <td>417.004517</td>\n",
              "    </tr>\n",
              "    <tr>\n",
              "      <th>2019-01-11</th>\n",
              "      <td>417.499603</td>\n",
              "    </tr>\n",
              "    <tr>\n",
              "      <th>2019-01-14</th>\n",
              "      <td>429.232971</td>\n",
              "    </tr>\n",
              "  </tbody>\n",
              "</table>\n",
              "<p>750 rows × 1 columns</p>\n",
              "</div>"
            ],
            "text/plain": [
              "              DABUR.NS\n",
              "Date                  \n",
              "2016-01-01  261.841431\n",
              "2016-01-04  262.315125\n",
              "2016-01-05  261.415131\n",
              "2016-01-06  261.367828\n",
              "2016-01-07  253.599701\n",
              "...                ...\n",
              "2019-01-08  412.301300\n",
              "2019-01-09  417.351074\n",
              "2019-01-10  417.004517\n",
              "2019-01-11  417.499603\n",
              "2019-01-14  429.232971\n",
              "\n",
              "[750 rows x 1 columns]"
            ]
          },
          "metadata": {
            "tags": []
          },
          "execution_count": 52
        }
      ]
    },
    {
      "cell_type": "code",
      "metadata": {
        "id": "x6bLPRhxB6-z",
        "colab_type": "code",
        "colab": {}
      },
      "source": [
        ""
      ],
      "execution_count": 0,
      "outputs": []
    },
    {
      "cell_type": "code",
      "metadata": {
        "id": "PNJpXYX4DHUo",
        "colab_type": "code",
        "colab": {}
      },
      "source": [
        ""
      ],
      "execution_count": 0,
      "outputs": []
    }
  ]
}